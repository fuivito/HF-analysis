{
 "cells": [
  {
   "cell_type": "code",
   "execution_count": 453,
   "metadata": {},
   "outputs": [],
   "source": [
    "import pandas as pd\n",
    "import seaborn as sns\n",
    "from matplotlib import pyplot as plt"
   ]
  },
  {
   "cell_type": "markdown",
   "metadata": {},
   "source": [
    "## Loading and merging data"
   ]
  },
  {
   "cell_type": "code",
   "execution_count": 577,
   "metadata": {},
   "outputs": [],
   "source": [
    "df_geo = pd.read_excel('./HF - complete.xlsx', sheet_name='Geography')\n",
    "df_geo_london = df_geo[df_geo['Manager City'].isin(['London','City Of London'])]\n",
    "\n",
    "df_strategy = pd.read_excel('./HF - complete.xlsx', sheet_name='Investment Strategy&Returns')\n",
    "df_aum = pd.read_excel('./HF - complete.xlsx', sheet_name='HF info - AUM')\n"
   ]
  },
  {
   "cell_type": "code",
   "execution_count": 578,
   "metadata": {
    "scrolled": true
   },
   "outputs": [],
   "source": [
    "df = df_geo_london.merge(df_strategy, how='left', on=['Ticker','Name'])\n",
    "df = df.merge(df_aum.drop(columns='AUM (USD)'), how='left', on=['Ticker', 'Name'])"
   ]
  },
  {
   "cell_type": "code",
   "execution_count": 579,
   "metadata": {},
   "outputs": [],
   "source": [
    "# df_bu = df.copy()"
   ]
  },
  {
   "cell_type": "code",
   "execution_count": 569,
   "metadata": {},
   "outputs": [],
   "source": [
    "df = df_bu.copy()"
   ]
  },
  {
   "cell_type": "code",
   "execution_count": 580,
   "metadata": {},
   "outputs": [],
   "source": [
    "def to_nominal_aum(df_input):\n",
    "    \n",
    "    df = df_input.copy()\n",
    "    df = df.rename(columns={'AUM (USD)' : 'AUM'})\n",
    "    df['AUM'] = df['AUM'].astype('str')\n",
    "\n",
    "    df.loc[df['AUM'].str.contains('B'),'UNIT'] = 'B'\n",
    "    df.loc[df['AUM'].str.contains('M'),'UNIT'] = 'M'\n",
    "    df.loc[df['AUM'].str.contains('k'),'UNIT'] = 'k'\n",
    "\n",
    "    df['AUM'] = df['AUM'].apply(lambda x: x.replace('B',''))\n",
    "    df['AUM'] = df['AUM'].apply(lambda x: x.replace('M',''))\n",
    "    df['AUM'] = df['AUM'].apply(lambda x: x.replace('k',''))\n",
    "    df['AUM'] = df['AUM'].apply(lambda x: x.replace('--','0'))\n",
    "\n",
    "    df['AUM'] = df['AUM'].astype('float')\n",
    "\n",
    "    df.loc[df.UNIT=='B', 'AUM'] = df['AUM']*1e9\n",
    "    df.loc[df.UNIT=='M', 'AUM'] = df['AUM']*1e6\n",
    "    df.loc[df.UNIT=='k', 'AUM'] = df['AUM']*1e3\n",
    "    \n",
    "    \n",
    "    return(df)"
   ]
  },
  {
   "cell_type": "markdown",
   "metadata": {},
   "source": [
    "# Data inspection and cleaning\n",
    "\n",
    "**Data are structured in the following way:**\n",
    "\n",
    "- Ticker is the unique identifier for the FUND (Name corresponds to the fund name, not the hedge fund)\n",
    "- Management Company is the Hedge Fund/Asset manager that manages the investment fund\n",
    "- A Management Company therefore can have multiple funds - especailly true for big HFs\n",
    "\n",
    "\n",
    "**Data cleaning:**\n",
    "\n",
    "- Need to convert AUM columns from string to numeric (function \"to_nominal_aum\")\n",
    "- Conversion AUM to milion USD\n",
    "- Removing funds with 0USD AUM\n",
    "- Only look at London's funds - already filtered at the beginning\n"
   ]
  },
  {
   "cell_type": "markdown",
   "metadata": {},
   "source": [
    "**Data visualisation**:\n",
    "- Clipping the distribution to $500M (that's the reason of the pick at 500M). It is very long tailed distribution, easier to look at"
   ]
  },
  {
   "cell_type": "code",
   "execution_count": 581,
   "metadata": {},
   "outputs": [],
   "source": [
    "# df = df_strat[df_strat.AUM<(1e9)].copy()\n",
    "# df_strat = df_strat[df_strat.AUM>(1e5)]\n",
    "df = to_nominal_aum(df)"
   ]
  },
  {
   "cell_type": "code",
   "execution_count": 582,
   "metadata": {},
   "outputs": [],
   "source": [
    "df['AUM'] = df.AUM*1e-6"
   ]
  },
  {
   "cell_type": "code",
   "execution_count": null,
   "metadata": {},
   "outputs": [],
   "source": [
    "df['1M Ret'] = df['1M Ret'].apply(lambda x: (x.split('%')[0]).replace('--', '0')).astype(float)\n",
    "df['YTD Ret'] = df['YTD Ret'].apply(lambda x: (x.split('%')[0]).replace('--', '0')).astype(float)"
   ]
  },
  {
   "cell_type": "markdown",
   "metadata": {},
   "source": [
    "### Starting with visualising the distribution with all the outliers\n",
    "- There are plenty of companies with artificially low AUM (to remove)\n",
    "- Too big funds need to be filtered out (they're not interesting to us)\n",
    "- In general the distribution is very skewed, so makes more sense looking at the median rather than mean\n"
   ]
  },
  {
   "cell_type": "code",
   "execution_count": 583,
   "metadata": {},
   "outputs": [
    {
     "data": {
      "text/html": [
       "<div>\n",
       "<style scoped>\n",
       "    .dataframe tbody tr th:only-of-type {\n",
       "        vertical-align: middle;\n",
       "    }\n",
       "\n",
       "    .dataframe tbody tr th {\n",
       "        vertical-align: top;\n",
       "    }\n",
       "\n",
       "    .dataframe thead th {\n",
       "        text-align: right;\n",
       "    }\n",
       "</style>\n",
       "<table border=\"1\" class=\"dataframe\">\n",
       "  <thead>\n",
       "    <tr style=\"text-align: right;\">\n",
       "      <th></th>\n",
       "      <th>AUM</th>\n",
       "    </tr>\n",
       "  </thead>\n",
       "  <tbody>\n",
       "    <tr>\n",
       "      <td>count</td>\n",
       "      <td>1007.000000</td>\n",
       "    </tr>\n",
       "    <tr>\n",
       "      <td>mean</td>\n",
       "      <td>236.212442</td>\n",
       "    </tr>\n",
       "    <tr>\n",
       "      <td>std</td>\n",
       "      <td>1038.989255</td>\n",
       "    </tr>\n",
       "    <tr>\n",
       "      <td>min</td>\n",
       "      <td>0.000000</td>\n",
       "    </tr>\n",
       "    <tr>\n",
       "      <td>25%</td>\n",
       "      <td>0.000000</td>\n",
       "    </tr>\n",
       "    <tr>\n",
       "      <td>50%</td>\n",
       "      <td>9.920000</td>\n",
       "    </tr>\n",
       "    <tr>\n",
       "      <td>75%</td>\n",
       "      <td>113.960000</td>\n",
       "    </tr>\n",
       "    <tr>\n",
       "      <td>max</td>\n",
       "      <td>22680.000000</td>\n",
       "    </tr>\n",
       "  </tbody>\n",
       "</table>\n",
       "</div>"
      ],
      "text/plain": [
       "                AUM\n",
       "count   1007.000000\n",
       "mean     236.212442\n",
       "std     1038.989255\n",
       "min        0.000000\n",
       "25%        0.000000\n",
       "50%        9.920000\n",
       "75%      113.960000\n",
       "max    22680.000000"
      ]
     },
     "execution_count": 583,
     "metadata": {},
     "output_type": "execute_result"
    }
   ],
   "source": [
    "df.describe()"
   ]
  },
  {
   "cell_type": "code",
   "execution_count": 584,
   "metadata": {
    "scrolled": false
   },
   "outputs": [
    {
     "data": {
      "text/plain": [
       "Text(0.5, 0, 'AUM (M$)')"
      ]
     },
     "execution_count": 584,
     "metadata": {},
     "output_type": "execute_result"
    },
    {
     "data": {
      "image/png": "[encoded data removed]",
      "text/plain": [
       "<Figure size 720x720 with 2 Axes>"
      ]
     },
     "metadata": {
      "needs_background": "light"
     },
     "output_type": "display_data"
    }
   ],
   "source": [
    "f,ax= plt.subplots(2,1,figsize=(10,10))\n",
    "sns.distplot(df['AUM'], ax=ax[0], rug=True)\n",
    "ax[0].set_title('Distribution AUM (M$)')\n",
    "ax[0].set_xlabel('AUM (M$)')\n",
    "\n",
    "\n",
    "sns.distplot(df['AUM'].clip(0,500), ax=ax[1], rug=True)\n",
    "ax[1].set_title('Distribution AUM (M$) - clipped to USD 500M')\n",
    "ax[1].set_xlabel('AUM (M$)')"
   ]
  },
  {
   "cell_type": "markdown",
   "metadata": {},
   "source": [
    "## Distribution AUM by asset manager\n",
    "\n",
    "- We only care about the HFs, not the single funds, so let's aggregate everything up\n",
    "- Be careful: return are in % not nominal"
   ]
  },
  {
   "cell_type": "code",
   "execution_count": 585,
   "metadata": {},
   "outputs": [],
   "source": [
    "import numpy as np"
   ]
  },
  {
   "cell_type": "code",
   "execution_count": 612,
   "metadata": {},
   "outputs": [],
   "source": [
    "df_hf = df.groupby('Management Company').agg({'Ticker':'count',\n",
    "                                              'AUM':'sum',\n",
    "                                              '1M Ret':'mean',\n",
    "                                              'YTD Ret':'mean'\n",
    "                                             })"
   ]
  },
  {
   "cell_type": "code",
   "execution_count": 613,
   "metadata": {},
   "outputs": [],
   "source": [
    "df_hf = df_hf[df_hf.index!='--']"
   ]
  },
  {
   "cell_type": "code",
   "execution_count": 614,
   "metadata": {},
   "outputs": [],
   "source": [
    "df_hf = df_hf[df_hf.AUM > 1]"
   ]
  },
  {
   "cell_type": "markdown",
   "metadata": {},
   "source": [
    "## Filtering\n",
    "\n",
    "It's clear we need to focus where most of the market players are: few milions to \n",
    "\n",
    "- Removing all HFs with AUM < USD 1M - this are simply wrong data, or way too small HFs\n",
    "\n",
    "From the distribution below it's clear we need to focus only on HFs with AUM below USD 2B"
   ]
  },
  {
   "cell_type": "code",
   "execution_count": 618,
   "metadata": {},
   "outputs": [
    {
     "data": {
      "text/plain": [
       "Text(0.5, 0, 'AUM (M$)')"
      ]
     },
     "execution_count": 618,
     "metadata": {},
     "output_type": "execute_result"
    },
    {
     "data": {
      "image/png": "[encoded data removed]",
      "text/plain": [
       "<Figure size 864x432 with 1 Axes>"
      ]
     },
     "metadata": {
      "needs_background": "light"
     },
     "output_type": "display_data"
    }
   ],
   "source": [
    "f,ax= plt.subplots(figsize=(12,6))\n",
    "sns.distplot(df_hf['AUM'].clip(0,5000))\n",
    "ax.set_title('Distribution AUM (M$)')\n",
    "ax.set_xlabel('AUM (M$)')"
   ]
  },
  {
   "cell_type": "code",
   "execution_count": 600,
   "metadata": {},
   "outputs": [
    {
     "data": {
      "text/html": [
       "<div>\n",
       "<style scoped>\n",
       "    .dataframe tbody tr th:only-of-type {\n",
       "        vertical-align: middle;\n",
       "    }\n",
       "\n",
       "    .dataframe tbody tr th {\n",
       "        vertical-align: top;\n",
       "    }\n",
       "\n",
       "    .dataframe thead th {\n",
       "        text-align: right;\n",
       "    }\n",
       "</style>\n",
       "<table border=\"1\" class=\"dataframe\">\n",
       "  <thead>\n",
       "    <tr style=\"text-align: right;\">\n",
       "      <th></th>\n",
       "      <th>Ticker</th>\n",
       "      <th>AUM</th>\n",
       "      <th>1M Ret</th>\n",
       "      <th>YTD Ret</th>\n",
       "    </tr>\n",
       "  </thead>\n",
       "  <tbody>\n",
       "    <tr>\n",
       "      <td>count</td>\n",
       "      <td>526.000000</td>\n",
       "      <td>526.000000</td>\n",
       "      <td>526.000000</td>\n",
       "      <td>526.000000</td>\n",
       "    </tr>\n",
       "    <tr>\n",
       "      <td>mean</td>\n",
       "      <td>1.884030</td>\n",
       "      <td>448.794446</td>\n",
       "      <td>0.094598</td>\n",
       "      <td>2.691969</td>\n",
       "    </tr>\n",
       "    <tr>\n",
       "      <td>std</td>\n",
       "      <td>2.220221</td>\n",
       "      <td>1666.275424</td>\n",
       "      <td>3.220741</td>\n",
       "      <td>8.648460</td>\n",
       "    </tr>\n",
       "    <tr>\n",
       "      <td>min</td>\n",
       "      <td>1.000000</td>\n",
       "      <td>0.000000</td>\n",
       "      <td>-49.525000</td>\n",
       "      <td>-80.615000</td>\n",
       "    </tr>\n",
       "    <tr>\n",
       "      <td>25%</td>\n",
       "      <td>1.000000</td>\n",
       "      <td>0.000000</td>\n",
       "      <td>0.000000</td>\n",
       "      <td>0.000000</td>\n",
       "    </tr>\n",
       "    <tr>\n",
       "      <td>50%</td>\n",
       "      <td>1.000000</td>\n",
       "      <td>22.600000</td>\n",
       "      <td>0.000000</td>\n",
       "      <td>0.000000</td>\n",
       "    </tr>\n",
       "    <tr>\n",
       "      <td>75%</td>\n",
       "      <td>2.000000</td>\n",
       "      <td>210.697500</td>\n",
       "      <td>0.317500</td>\n",
       "      <td>3.202500</td>\n",
       "    </tr>\n",
       "    <tr>\n",
       "      <td>max</td>\n",
       "      <td>27.000000</td>\n",
       "      <td>22895.340000</td>\n",
       "      <td>19.000000</td>\n",
       "      <td>82.550000</td>\n",
       "    </tr>\n",
       "  </tbody>\n",
       "</table>\n",
       "</div>"
      ],
      "text/plain": [
       "           Ticker           AUM      1M Ret     YTD Ret\n",
       "count  526.000000    526.000000  526.000000  526.000000\n",
       "mean     1.884030    448.794446    0.094598    2.691969\n",
       "std      2.220221   1666.275424    3.220741    8.648460\n",
       "min      1.000000      0.000000  -49.525000  -80.615000\n",
       "25%      1.000000      0.000000    0.000000    0.000000\n",
       "50%      1.000000     22.600000    0.000000    0.000000\n",
       "75%      2.000000    210.697500    0.317500    3.202500\n",
       "max     27.000000  22895.340000   19.000000   82.550000"
      ]
     },
     "execution_count": 600,
     "metadata": {},
     "output_type": "execute_result"
    }
   ],
   "source": [
    "df_hf.describe()"
   ]
  },
  {
   "cell_type": "code",
   "execution_count": 619,
   "metadata": {},
   "outputs": [],
   "source": [
    "df_hf_filt = df_hf.copy()\n",
    "df_hf_filt = df_hf_filt[df_hf_filt.AUM<2000]"
   ]
  },
  {
   "cell_type": "code",
   "execution_count": 620,
   "metadata": {},
   "outputs": [
    {
     "data": {
      "text/html": [
       "<div>\n",
       "<style scoped>\n",
       "    .dataframe tbody tr th:only-of-type {\n",
       "        vertical-align: middle;\n",
       "    }\n",
       "\n",
       "    .dataframe tbody tr th {\n",
       "        vertical-align: top;\n",
       "    }\n",
       "\n",
       "    .dataframe thead th {\n",
       "        text-align: right;\n",
       "    }\n",
       "</style>\n",
       "<table border=\"1\" class=\"dataframe\">\n",
       "  <thead>\n",
       "    <tr style=\"text-align: right;\">\n",
       "      <th></th>\n",
       "      <th>Ticker</th>\n",
       "      <th>AUM</th>\n",
       "      <th>1M Ret</th>\n",
       "      <th>YTD Ret</th>\n",
       "    </tr>\n",
       "  </thead>\n",
       "  <tbody>\n",
       "    <tr>\n",
       "      <td>count</td>\n",
       "      <td>305.000000</td>\n",
       "      <td>305.000000</td>\n",
       "      <td>305.000000</td>\n",
       "      <td>305.000000</td>\n",
       "    </tr>\n",
       "    <tr>\n",
       "      <td>mean</td>\n",
       "      <td>1.845902</td>\n",
       "      <td>274.572986</td>\n",
       "      <td>-0.006016</td>\n",
       "      <td>3.291989</td>\n",
       "    </tr>\n",
       "    <tr>\n",
       "      <td>std</td>\n",
       "      <td>1.677794</td>\n",
       "      <td>373.973802</td>\n",
       "      <td>4.067269</td>\n",
       "      <td>9.550805</td>\n",
       "    </tr>\n",
       "    <tr>\n",
       "      <td>min</td>\n",
       "      <td>1.000000</td>\n",
       "      <td>1.120000</td>\n",
       "      <td>-49.525000</td>\n",
       "      <td>-80.615000</td>\n",
       "    </tr>\n",
       "    <tr>\n",
       "      <td>25%</td>\n",
       "      <td>1.000000</td>\n",
       "      <td>28.140000</td>\n",
       "      <td>-0.107500</td>\n",
       "      <td>0.000000</td>\n",
       "    </tr>\n",
       "    <tr>\n",
       "      <td>50%</td>\n",
       "      <td>1.000000</td>\n",
       "      <td>117.600000</td>\n",
       "      <td>0.000000</td>\n",
       "      <td>0.730000</td>\n",
       "    </tr>\n",
       "    <tr>\n",
       "      <td>75%</td>\n",
       "      <td>2.000000</td>\n",
       "      <td>406.260000</td>\n",
       "      <td>0.490000</td>\n",
       "      <td>5.245556</td>\n",
       "    </tr>\n",
       "    <tr>\n",
       "      <td>max</td>\n",
       "      <td>12.000000</td>\n",
       "      <td>1984.890000</td>\n",
       "      <td>19.000000</td>\n",
       "      <td>82.550000</td>\n",
       "    </tr>\n",
       "  </tbody>\n",
       "</table>\n",
       "</div>"
      ],
      "text/plain": [
       "           Ticker          AUM      1M Ret     YTD Ret\n",
       "count  305.000000   305.000000  305.000000  305.000000\n",
       "mean     1.845902   274.572986   -0.006016    3.291989\n",
       "std      1.677794   373.973802    4.067269    9.550805\n",
       "min      1.000000     1.120000  -49.525000  -80.615000\n",
       "25%      1.000000    28.140000   -0.107500    0.000000\n",
       "50%      1.000000   117.600000    0.000000    0.730000\n",
       "75%      2.000000   406.260000    0.490000    5.245556\n",
       "max     12.000000  1984.890000   19.000000   82.550000"
      ]
     },
     "execution_count": 620,
     "metadata": {},
     "output_type": "execute_result"
    }
   ],
   "source": [
    "df_hf_filt.describe()"
   ]
  },
  {
   "cell_type": "markdown",
   "metadata": {},
   "source": [
    "## Key results\n",
    "\n",
    "From the distribution below I think we'd need to direct our research on HFs with USD 500M +/- 300M.\n",
    "These are potentially the HFs with higher power to buy a product like oursì. More cash to invest"
   ]
  },
  {
   "cell_type": "code",
   "execution_count": 623,
   "metadata": {},
   "outputs": [
    {
     "data": {
      "text/plain": [
       "Text(0.5, 0, 'AUM (M$)')"
      ]
     },
     "execution_count": 623,
     "metadata": {},
     "output_type": "execute_result"
    },
    {
     "data": {
      "image/png": "[encoded data removed]",
      "text/plain": [
       "<Figure size 864x432 with 1 Axes>"
      ]
     },
     "metadata": {
      "needs_background": "light"
     },
     "output_type": "display_data"
    }
   ],
   "source": [
    "f,ax= plt.subplots(figsize=(12,6))\n",
    "sns.distplot(df_hf_filt['AUM'])\n",
    "ax.set_title('Distribution AUM (M$)')\n",
    "ax.set_xlabel('AUM (M$)')"
   ]
  },
  {
   "cell_type": "markdown",
   "metadata": {},
   "source": [
    "**Few names to check**"
   ]
  },
  {
   "cell_type": "code",
   "execution_count": 633,
   "metadata": {},
   "outputs": [
    {
     "data": {
      "text/html": [
       "<div>\n",
       "<style scoped>\n",
       "    .dataframe tbody tr th:only-of-type {\n",
       "        vertical-align: middle;\n",
       "    }\n",
       "\n",
       "    .dataframe tbody tr th {\n",
       "        vertical-align: top;\n",
       "    }\n",
       "\n",
       "    .dataframe thead th {\n",
       "        text-align: right;\n",
       "    }\n",
       "</style>\n",
       "<table border=\"1\" class=\"dataframe\">\n",
       "  <thead>\n",
       "    <tr style=\"text-align: right;\">\n",
       "      <th></th>\n",
       "      <th>Ticker</th>\n",
       "      <th>AUM</th>\n",
       "      <th>1M Ret</th>\n",
       "      <th>YTD Ret</th>\n",
       "    </tr>\n",
       "    <tr>\n",
       "      <th>Management Company</th>\n",
       "      <th></th>\n",
       "      <th></th>\n",
       "      <th></th>\n",
       "      <th></th>\n",
       "    </tr>\n",
       "  </thead>\n",
       "  <tbody>\n",
       "    <tr>\n",
       "      <td>Liontrust Multi-Asset Ltd</td>\n",
       "      <td>1</td>\n",
       "      <td>406.26</td>\n",
       "      <td>0.620000</td>\n",
       "      <td>6.370000</td>\n",
       "    </tr>\n",
       "    <tr>\n",
       "      <td>Cheyne Capital Management Ltd</td>\n",
       "      <td>1</td>\n",
       "      <td>412.68</td>\n",
       "      <td>3.070000</td>\n",
       "      <td>4.920000</td>\n",
       "    </tr>\n",
       "    <tr>\n",
       "      <td>CQS Cayman LP</td>\n",
       "      <td>1</td>\n",
       "      <td>427.00</td>\n",
       "      <td>0.000000</td>\n",
       "      <td>0.000000</td>\n",
       "    </tr>\n",
       "    <tr>\n",
       "      <td>Culross Global Management Ltd</td>\n",
       "      <td>3</td>\n",
       "      <td>428.00</td>\n",
       "      <td>-0.720000</td>\n",
       "      <td>-0.393333</td>\n",
       "    </tr>\n",
       "    <tr>\n",
       "      <td>Marshall Wace Asset Management Ireland Ltd</td>\n",
       "      <td>1</td>\n",
       "      <td>430.57</td>\n",
       "      <td>0.930000</td>\n",
       "      <td>12.210000</td>\n",
       "    </tr>\n",
       "    <tr>\n",
       "      <td>Dearborn Capital Management LLC</td>\n",
       "      <td>1</td>\n",
       "      <td>437.76</td>\n",
       "      <td>-1.770000</td>\n",
       "      <td>3.550000</td>\n",
       "    </tr>\n",
       "    <tr>\n",
       "      <td>Algebris UK Ltd</td>\n",
       "      <td>1</td>\n",
       "      <td>448.91</td>\n",
       "      <td>0.000000</td>\n",
       "      <td>2.070000</td>\n",
       "    </tr>\n",
       "    <tr>\n",
       "      <td>Camox Cayman Management Ltd</td>\n",
       "      <td>1</td>\n",
       "      <td>450.00</td>\n",
       "      <td>-1.620000</td>\n",
       "      <td>10.610000</td>\n",
       "    </tr>\n",
       "    <tr>\n",
       "      <td>Pamplona Capital Management LLP</td>\n",
       "      <td>1</td>\n",
       "      <td>451.25</td>\n",
       "      <td>0.000000</td>\n",
       "      <td>0.000000</td>\n",
       "    </tr>\n",
       "    <tr>\n",
       "      <td>Hermes BPK Partners LLP</td>\n",
       "      <td>1</td>\n",
       "      <td>463.12</td>\n",
       "      <td>0.000000</td>\n",
       "      <td>0.000000</td>\n",
       "    </tr>\n",
       "    <tr>\n",
       "      <td>GAM Fund Management Ltd</td>\n",
       "      <td>7</td>\n",
       "      <td>473.47</td>\n",
       "      <td>-0.251429</td>\n",
       "      <td>0.274286</td>\n",
       "    </tr>\n",
       "    <tr>\n",
       "      <td>Lansdowne Partners UK LLP</td>\n",
       "      <td>7</td>\n",
       "      <td>475.65</td>\n",
       "      <td>-1.354286</td>\n",
       "      <td>3.335714</td>\n",
       "    </tr>\n",
       "    <tr>\n",
       "      <td>Insight Investment Management Global Ltd</td>\n",
       "      <td>3</td>\n",
       "      <td>482.54</td>\n",
       "      <td>4.216667</td>\n",
       "      <td>16.306667</td>\n",
       "    </tr>\n",
       "    <tr>\n",
       "      <td>Enko Capital Management LLP</td>\n",
       "      <td>1</td>\n",
       "      <td>485.70</td>\n",
       "      <td>0.550000</td>\n",
       "      <td>2.370000</td>\n",
       "    </tr>\n",
       "    <tr>\n",
       "      <td>GAM International Management Ltd</td>\n",
       "      <td>3</td>\n",
       "      <td>494.88</td>\n",
       "      <td>-1.403333</td>\n",
       "      <td>4.083333</td>\n",
       "    </tr>\n",
       "    <tr>\n",
       "      <td>Spinnaker Capital Ltda</td>\n",
       "      <td>1</td>\n",
       "      <td>495.30</td>\n",
       "      <td>3.100000</td>\n",
       "      <td>2.030000</td>\n",
       "    </tr>\n",
       "    <tr>\n",
       "      <td>Cheyne Capital Management UK LLP</td>\n",
       "      <td>12</td>\n",
       "      <td>496.52</td>\n",
       "      <td>0.802500</td>\n",
       "      <td>2.225833</td>\n",
       "    </tr>\n",
       "    <tr>\n",
       "      <td>DSAM Partners London Ltd</td>\n",
       "      <td>1</td>\n",
       "      <td>500.05</td>\n",
       "      <td>0.000000</td>\n",
       "      <td>0.000000</td>\n",
       "    </tr>\n",
       "    <tr>\n",
       "      <td>Majedie Asset Management International Investment Fund Co PLC/United Kingdom</td>\n",
       "      <td>1</td>\n",
       "      <td>504.81</td>\n",
       "      <td>-7.500000</td>\n",
       "      <td>11.270000</td>\n",
       "    </tr>\n",
       "    <tr>\n",
       "      <td>Selwood Asset Management LLP</td>\n",
       "      <td>2</td>\n",
       "      <td>505.00</td>\n",
       "      <td>3.230000</td>\n",
       "      <td>3.230000</td>\n",
       "    </tr>\n",
       "  </tbody>\n",
       "</table>\n",
       "</div>"
      ],
      "text/plain": [
       "                                                    Ticker     AUM    1M Ret  \\\n",
       "Management Company                                                             \n",
       "Liontrust Multi-Asset Ltd                                1  406.26  0.620000   \n",
       "Cheyne Capital Management Ltd                            1  412.68  3.070000   \n",
       "CQS Cayman LP                                            1  427.00  0.000000   \n",
       "Culross Global Management Ltd                            3  428.00 -0.720000   \n",
       "Marshall Wace Asset Management Ireland Ltd               1  430.57  0.930000   \n",
       "Dearborn Capital Management LLC                          1  437.76 -1.770000   \n",
       "Algebris UK Ltd                                          1  448.91  0.000000   \n",
       "Camox Cayman Management Ltd                              1  450.00 -1.620000   \n",
       "Pamplona Capital Management LLP                          1  451.25  0.000000   \n",
       "Hermes BPK Partners LLP                                  1  463.12  0.000000   \n",
       "GAM Fund Management Ltd                                  7  473.47 -0.251429   \n",
       "Lansdowne Partners UK LLP                                7  475.65 -1.354286   \n",
       "Insight Investment Management Global Ltd                 3  482.54  4.216667   \n",
       "Enko Capital Management LLP                              1  485.70  0.550000   \n",
       "GAM International Management Ltd                         3  494.88 -1.403333   \n",
       "Spinnaker Capital Ltda                                   1  495.30  3.100000   \n",
       "Cheyne Capital Management UK LLP                        12  496.52  0.802500   \n",
       "DSAM Partners London Ltd                                 1  500.05  0.000000   \n",
       "Majedie Asset Management International Investme...       1  504.81 -7.500000   \n",
       "Selwood Asset Management LLP                             2  505.00  3.230000   \n",
       "\n",
       "                                                      YTD Ret  \n",
       "Management Company                                             \n",
       "Liontrust Multi-Asset Ltd                            6.370000  \n",
       "Cheyne Capital Management Ltd                        4.920000  \n",
       "CQS Cayman LP                                        0.000000  \n",
       "Culross Global Management Ltd                       -0.393333  \n",
       "Marshall Wace Asset Management Ireland Ltd          12.210000  \n",
       "Dearborn Capital Management LLC                      3.550000  \n",
       "Algebris UK Ltd                                      2.070000  \n",
       "Camox Cayman Management Ltd                         10.610000  \n",
       "Pamplona Capital Management LLP                      0.000000  \n",
       "Hermes BPK Partners LLP                              0.000000  \n",
       "GAM Fund Management Ltd                              0.274286  \n",
       "Lansdowne Partners UK LLP                            3.335714  \n",
       "Insight Investment Management Global Ltd            16.306667  \n",
       "Enko Capital Management LLP                          2.370000  \n",
       "GAM International Management Ltd                     4.083333  \n",
       "Spinnaker Capital Ltda                               2.030000  \n",
       "Cheyne Capital Management UK LLP                     2.225833  \n",
       "DSAM Partners London Ltd                             0.000000  \n",
       "Majedie Asset Management International Investme...  11.270000  \n",
       "Selwood Asset Management LLP                         3.230000  "
      ]
     },
     "execution_count": 633,
     "metadata": {},
     "output_type": "execute_result"
    }
   ],
   "source": [
    "df_hf_filt[df_hf_filt.AUM>400].sort_values('AUM',ascending=True).head(20)\n"
   ]
  },
  {
   "cell_type": "code",
   "execution_count": 634,
   "metadata": {},
   "outputs": [
    {
     "data": {
      "text/html": [
       "<div>\n",
       "<style scoped>\n",
       "    .dataframe tbody tr th:only-of-type {\n",
       "        vertical-align: middle;\n",
       "    }\n",
       "\n",
       "    .dataframe tbody tr th {\n",
       "        vertical-align: top;\n",
       "    }\n",
       "\n",
       "    .dataframe thead th {\n",
       "        text-align: right;\n",
       "    }\n",
       "</style>\n",
       "<table border=\"1\" class=\"dataframe\">\n",
       "  <thead>\n",
       "    <tr style=\"text-align: right;\">\n",
       "      <th></th>\n",
       "      <th>Name</th>\n",
       "      <th>Ticker</th>\n",
       "      <th>Management Company</th>\n",
       "      <th>Manager City</th>\n",
       "      <th>Manager Country</th>\n",
       "      <th>Prime Broker</th>\n",
       "      <th>Auditor</th>\n",
       "      <th>Administrator</th>\n",
       "      <th>Custodian</th>\n",
       "      <th>Legal Counsel</th>\n",
       "    </tr>\n",
       "  </thead>\n",
       "  <tbody>\n",
       "    <tr>\n",
       "      <td>988</td>\n",
       "      <td>Selwood Credit Opportunities Feeder Sub-Fund IV</td>\n",
       "      <td>SCO4IRU ID</td>\n",
       "      <td>Selwood Asset Management LLP</td>\n",
       "      <td>London</td>\n",
       "      <td>United Kingdom</td>\n",
       "      <td>Bank of America Merrill Lynch/</td>\n",
       "      <td>Deloitte &amp; Touche LLP</td>\n",
       "      <td>US Bank Global Fund Services Ireland Ltd</td>\n",
       "      <td>Bank of America Merrill Lynch/Cayman Islands</td>\n",
       "      <td>Maples and Calder Ltd</td>\n",
       "    </tr>\n",
       "    <tr>\n",
       "      <td>1343</td>\n",
       "      <td>Selwood Credit Opportunities Feeder Sub-Fund III</td>\n",
       "      <td>SCOF3MU ID</td>\n",
       "      <td>Selwood Asset Management LLP</td>\n",
       "      <td>London</td>\n",
       "      <td>United Kingdom</td>\n",
       "      <td>Bank of America Corp</td>\n",
       "      <td>Deloitte &amp; Touche LLP</td>\n",
       "      <td>US Bank Global Fund Services Ireland Ltd</td>\n",
       "      <td>Bank of America Corp</td>\n",
       "      <td>Maples and Calder Ltd</td>\n",
       "    </tr>\n",
       "  </tbody>\n",
       "</table>\n",
       "</div>"
      ],
      "text/plain": [
       "                                                  Name      Ticker  \\\n",
       "988    Selwood Credit Opportunities Feeder Sub-Fund IV  SCO4IRU ID   \n",
       "1343  Selwood Credit Opportunities Feeder Sub-Fund III  SCOF3MU ID   \n",
       "\n",
       "                Management Company Manager City Manager Country  \\\n",
       "988   Selwood Asset Management LLP       London  United Kingdom   \n",
       "1343  Selwood Asset Management LLP       London  United Kingdom   \n",
       "\n",
       "                        Prime Broker                Auditor  \\\n",
       "988   Bank of America Merrill Lynch/  Deloitte & Touche LLP   \n",
       "1343            Bank of America Corp  Deloitte & Touche LLP   \n",
       "\n",
       "                                 Administrator  \\\n",
       "988   US Bank Global Fund Services Ireland Ltd   \n",
       "1343  US Bank Global Fund Services Ireland Ltd   \n",
       "\n",
       "                                         Custodian          Legal Counsel  \n",
       "988   Bank of America Merrill Lynch/Cayman Islands  Maples and Calder Ltd  \n",
       "1343                          Bank of America Corp  Maples and Calder Ltd  "
      ]
     },
     "execution_count": 634,
     "metadata": {},
     "output_type": "execute_result"
    }
   ],
   "source": [
    "df_geo[df_geo['Management Company']=='Selwood Asset Management LLP']"
   ]
  },
  {
   "cell_type": "markdown",
   "metadata": {},
   "source": [
    "# AUM by strategy"
   ]
  },
  {
   "cell_type": "code",
   "execution_count": 637,
   "metadata": {
    "scrolled": true
   },
   "outputs": [],
   "source": [
    "df_filt = df.copy()\n",
    "df_filt = df_filt[df_filt.AUM<2000]\n",
    "df_filt = df_filt[df_filt.AUM>1]"
   ]
  },
  {
   "cell_type": "code",
   "execution_count": 639,
   "metadata": {
    "scrolled": true
   },
   "outputs": [
    {
     "data": {
      "text/plain": [
       "Index(['Name', 'Ticker', 'Management Company', 'Manager City',\n",
       "       'Manager Country', 'Prime Broker', 'Auditor', 'Administrator',\n",
       "       'Custodian', 'Legal Counsel', 'Strategy', 'Style', '1M Ret', 'YTD Ret',\n",
       "       'AUM', 'Last Close Dt', 'Fund Type', 'Geo Focus', 'Industry Focus',\n",
       "       'Firm AUM (USD)', 'Inception Date', 'Market Status', 'Closed',\n",
       "       'Women/Minority', 'Index Constituent', 'Permissioning Status',\n",
       "       'Primary Share Classes', 'Investor Type', 'Px Source', 'UNIT'],\n",
       "      dtype='object')"
      ]
     },
     "execution_count": 639,
     "metadata": {},
     "output_type": "execute_result"
    }
   ],
   "source": [
    "df_filt.columns"
   ]
  },
  {
   "cell_type": "code",
   "execution_count": 651,
   "metadata": {},
   "outputs": [],
   "source": [
    "by_strategy = df.groupby('Style')['AUM'].sum()\n",
    "by_strategy = by_strategy[by_strategy.index!='--']"
   ]
  },
  {
   "cell_type": "code",
   "execution_count": 652,
   "metadata": {},
   "outputs": [],
   "source": [
    "by_strategy = by_strategy.to_frame('AUM').reset_index().sort_values('AUM', ascending=False)"
   ]
  },
  {
   "cell_type": "code",
   "execution_count": 661,
   "metadata": {},
   "outputs": [
    {
     "data": {
      "text/plain": [
       "[Text(0, 0, 'Multi-Strategy'),\n",
       " Text(0, 0, 'Equity Long/Short'),\n",
       " Text(0, 0, 'Macro Multi-Strategy'),\n",
       " Text(0, 0, 'Discretionary Macro'),\n",
       " Text(0, 0, 'Equity Long Only'),\n",
       " Text(0, 0, 'Commodity Trading Advisors (CTA)'),\n",
       " Text(0, 0, 'Fundamental Equity Market Neutral'),\n",
       " Text(0, 0, 'Fixed Income Arbitrage'),\n",
       " Text(0, 0, 'Distressed Debt'),\n",
       " Text(0, 0, 'Insurance'),\n",
       " Text(0, 0, 'Structured Credit'),\n",
       " Text(0, 0, 'Credit Hedge Multi-Strategy'),\n",
       " Text(0, 0, 'Equity Long Biased'),\n",
       " Text(0, 0, 'Global Asset Allocation (GAA)'),\n",
       " Text(0, 0, 'Emerging Market Debt'),\n",
       " Text(0, 0, 'Event Driven Multi-Strategy'),\n",
       " Text(0, 0, 'Commodity'),\n",
       " Text(0, 0, 'Credit Long/Short'),\n",
       " Text(0, 0, 'Relative Value Multi-Strategy'),\n",
       " Text(0, 0, 'Merger Arbitrage')]"
      ]
     },
     "execution_count": 661,
     "metadata": {},
     "output_type": "execute_result"
    },
    {
     "data": {
      "image/png": "[encoded data removed]",
      "text/plain": [
       "<Figure size 864x432 with 1 Axes>"
      ]
     },
     "metadata": {
      "needs_background": "light"
     },
     "output_type": "display_data"
    }
   ],
   "source": [
    "f,ax=plt.subplots(figsize=(12,6))\n",
    "sns.barplot(data=by_strategy.head(20), x='Style', y='AUM', color='salmon')\n",
    "ax.set_ylabel('AUM (USD M)')\n",
    "ax.set_xticklabels(ax.get_xticklabels(), rotation=45, ha='right')"
   ]
  },
  {
   "cell_type": "code",
   "execution_count": 676,
   "metadata": {},
   "outputs": [],
   "source": [
    "xx = df_filt[df_filt['Style'].isin(by_strategy.Style[0:10].to_list())]"
   ]
  },
  {
   "cell_type": "code",
   "execution_count": 688,
   "metadata": {},
   "outputs": [],
   "source": [
    "median_df = xx.groupby('Style').apply(lambda x: x.AUM.median()).to_frame('AUM').reset_index()"
   ]
  },
  {
   "cell_type": "code",
   "execution_count": 699,
   "metadata": {},
   "outputs": [
    {
     "data": {
      "text/plain": [
       "[Text(0, 0, ''),\n",
       " Text(0, 0, ''),\n",
       " Text(0, 0, ''),\n",
       " Text(0, 0, ''),\n",
       " Text(0, 0, ''),\n",
       " Text(0, 0, ''),\n",
       " Text(0, 0, ''),\n",
       " Text(0, 0, ''),\n",
       " Text(0, 0, ''),\n",
       " Text(0, 0, '')]"
      ]
     },
     "execution_count": 699,
     "metadata": {},
     "output_type": "execute_result"
    },
    {
     "data": {
      "image/png": "[encoded data removed]",
      "text/plain": [
       "<Figure size 1080x720 with 1 Axes>"
      ]
     },
     "metadata": {
      "needs_background": "light"
     },
     "output_type": "display_data"
    }
   ],
   "source": [
    "f,ax = plt.subplots(figsize=(15,10))\n",
    "sns.scatterplot(x=xx['Style'], y=xx['YTD Ret'], hue=xx['Style'],ax=ax)\n",
    "# sns.scatterplot(data = median_df, x='Style', y='AUM', color='red', size=1000, ax=ax)\n",
    "\n",
    "\n",
    "ax.set_xticklabels(ax.get_xticklabels(), rotation=45, ha='right')"
   ]
  },
  {
   "cell_type": "code",
   "execution_count": null,
   "metadata": {},
   "outputs": [],
   "source": []
  },
  {
   "cell_type": "code",
   "execution_count": null,
   "metadata": {},
   "outputs": [],
   "source": []
  },
  {
   "cell_type": "code",
   "execution_count": null,
   "metadata": {},
   "outputs": [],
   "source": []
  },
  {
   "cell_type": "code",
   "execution_count": null,
   "metadata": {},
   "outputs": [],
   "source": []
  },
  {
   "cell_type": "code",
   "execution_count": null,
   "metadata": {},
   "outputs": [],
   "source": []
  },
  {
   "cell_type": "code",
   "execution_count": null,
   "metadata": {},
   "outputs": [],
   "source": []
  }
 ],
 "metadata": {
  "kernelspec": {
   "display_name": "Python 3",
   "language": "python",
   "name": "python3"
  },
  "language_info": {
   "codemirror_mode": {
    "name": "ipython",
    "version": 3
   },
   "file_extension": ".py",
   "mimetype": "text/x-python",
   "name": "python",
   "nbconvert_exporter": "python",
   "pygments_lexer": "ipython3",
   "version": "3.7.3"
  }
 },
 "nbformat": 4,
 "nbformat_minor": 2
}
